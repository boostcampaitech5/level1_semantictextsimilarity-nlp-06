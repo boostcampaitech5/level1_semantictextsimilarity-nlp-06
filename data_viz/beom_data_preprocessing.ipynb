{
 "cells": [
  {
   "cell_type": "markdown",
   "id": "61931494-acbf-4a68-a5f2-2c7819d5dac5",
   "metadata": {},
   "source": [
    "# 데이터 전처리 코드\n",
    "\n",
    "- creator: 김기범"
   ]
  },
  {
   "cell_type": "code",
   "execution_count": 2,
   "id": "10e641cf-01f9-4f66-9f61-4b26ef0ea5cd",
   "metadata": {
    "tags": []
   },
   "outputs": [],
   "source": [
    "import pandas as pd\n",
    "import numpy as np"
   ]
  },
  {
   "cell_type": "code",
   "execution_count": 3,
   "id": "e1068ba5-b89b-4678-b6e7-d3fba5e2b48c",
   "metadata": {
    "tags": []
   },
   "outputs": [
    {
     "data": {
      "text/plain": [
       "(9324, 6)"
      ]
     },
     "execution_count": 3,
     "metadata": {},
     "output_type": "execute_result"
    }
   ],
   "source": [
    "train_df = pd.read_csv('../data/train.csv')\n",
    "\n",
    "train_df.shape"
   ]
  },
  {
   "cell_type": "markdown",
   "id": "ad2fd608-331e-4549-81f3-d67a1b581159",
   "metadata": {},
   "source": [
    "## 특수 문자 제거"
   ]
  },
  {
   "cell_type": "code",
   "execution_count": 4,
   "id": "f9e2c3b1-9d21-471b-9c7b-cf3938bb6823",
   "metadata": {
    "tags": []
   },
   "outputs": [
    {
     "data": {
      "text/plain": [
       "0       스릴도있고 반전도 있고 여느 한국영화 쓰레기들하고는 차원이 다르네요~\n",
       "1                         앗 제가 접근권한이 없다고 뜹니다;;\n",
       "2                               주택청약조건 변경해주세요.\n",
       "3                       입사후 처음 대면으로 만나 반가웠습니다.\n",
       "4                                   뿌듯뿌듯 하네요!!\n",
       "                         ...                  \n",
       "9319      교원능력개발평가에서 교원이 보호받을 수 있는 장치를 마련해야합니다\n",
       "9320                           여성가족부의 폐지를 원합니드\n",
       "9321                           국회의원들 월급좀 줄여주세요\n",
       "9322             오늘 못한 점심은 다음에 다시 츄라이 하기로 해요!!\n",
       "9323                          법정공휴일 휴무관련 (근로자)\n",
       "Name: sentence_1, Length: 9324, dtype: object"
      ]
     },
     "execution_count": 4,
     "metadata": {},
     "output_type": "execute_result"
    }
   ],
   "source": [
    "train_df['sentence_1']"
   ]
  },
  {
   "cell_type": "code",
   "execution_count": 5,
   "id": "a61c0469-8baf-4d30-bb5e-c6f6166ffd71",
   "metadata": {
    "tags": []
   },
   "outputs": [
    {
     "data": {
      "text/plain": [
       "0       스릴도있고 반전도 있고 여느 한국영화 쓰레기들하고는 차원이 다르네요 \n",
       "1                         앗 제가 접근권한이 없다고 뜹니다  \n",
       "2                               주택청약조건 변경해주세요 \n",
       "3                       입사후 처음 대면으로 만나 반가웠습니다 \n",
       "4                                   뿌듯뿌듯 하네요  \n",
       "                         ...                  \n",
       "9319      교원능력개발평가에서 교원이 보호받을 수 있는 장치를 마련해야합니다\n",
       "9320                           여성가족부의 폐지를 원합니드\n",
       "9321                           국회의원들 월급좀 줄여주세요\n",
       "9322             오늘 못한 점심은 다음에 다시 츄라이 하기로 해요  \n",
       "9323                          법정공휴일 휴무관련  근로자 \n",
       "Name: sentence_1, Length: 9324, dtype: object"
      ]
     },
     "execution_count": 5,
     "metadata": {},
     "output_type": "execute_result"
    }
   ],
   "source": [
    "train_df['sentence_1'].str.replace(pat=r'[^\\w]', repl=r' ', regex=True)"
   ]
  },
  {
   "cell_type": "code",
   "execution_count": 6,
   "id": "4bef1221-8c4a-44a3-931a-6c7eeb8eb32c",
   "metadata": {
    "tags": []
   },
   "outputs": [
    {
     "data": {
      "text/plain": [
       "0                                반전도 있고,사랑도 있고재미도있네요.\n",
       "1                                 오, 액세스 권한이 없다고 합니다.\n",
       "2                                  주택청약 무주택기준 변경해주세요.\n",
       "3                        화상으로만 보다가 리얼로 만나니 정말 반가웠습니다.\n",
       "4                               꼬옥 실제로 한번 뵈어요 뿌뿌뿌~!~!\n",
       "                            ...                      \n",
       "9319    본인이 납부한 국민연금 금액을 기준으로 대출을 받을 수 있는 제도를 마련해 주세요\n",
       "9320                                여성가족부 폐지를 청원 합니다.\n",
       "9321                                 공무원 봉급좀 줄이지좀 마세요\n",
       "9322                         오늘 못먹은 밥은 꼭 담에 먹기로 하고요!!\n",
       "9323                           법정공휴일의 유급휴무화를 막아야 합니다.\n",
       "Name: sentence_2, Length: 9324, dtype: object"
      ]
     },
     "execution_count": 6,
     "metadata": {},
     "output_type": "execute_result"
    }
   ],
   "source": [
    "train_df['sentence_2']"
   ]
  },
  {
   "cell_type": "code",
   "execution_count": 7,
   "id": "f4405800-ad06-4537-bccf-82c961fdebc1",
   "metadata": {
    "tags": []
   },
   "outputs": [
    {
     "data": {
      "text/plain": [
       "0                                반전도 있고 사랑도 있고재미도있네요 \n",
       "1                                 오  액세스 권한이 없다고 합니다 \n",
       "2                                  주택청약 무주택기준 변경해주세요 \n",
       "3                        화상으로만 보다가 리얼로 만나니 정말 반가웠습니다 \n",
       "4                               꼬옥 실제로 한번 뵈어요 뿌뿌뿌    \n",
       "                            ...                      \n",
       "9319    본인이 납부한 국민연금 금액을 기준으로 대출을 받을 수 있는 제도를 마련해 주세요\n",
       "9320                                여성가족부 폐지를 청원 합니다 \n",
       "9321                                 공무원 봉급좀 줄이지좀 마세요\n",
       "9322                         오늘 못먹은 밥은 꼭 담에 먹기로 하고요  \n",
       "9323                           법정공휴일의 유급휴무화를 막아야 합니다 \n",
       "Name: sentence_2, Length: 9324, dtype: object"
      ]
     },
     "execution_count": 7,
     "metadata": {},
     "output_type": "execute_result"
    }
   ],
   "source": [
    "train_df['sentence_2'].str.replace(pat='[^\\w]', repl=r' ', regex=True)"
   ]
  },
  {
   "cell_type": "code",
   "execution_count": 10,
   "id": "09116eb2-e8d2-4d48-8f9c-8e2fd84168aa",
   "metadata": {},
   "outputs": [
    {
     "data": {
      "text/plain": [
       "0       스릴도있고 반전도 여느 한국영화 쓰레기들하고는 차원이 다르네요~\n",
       "1                        제가 접근권한이 없다고 뜹니다;;\n",
       "2                                    주택청약조건\n",
       "3                        처음 대면으로 만나 반가웠습니다.\n",
       "4                                      뿌듯뿌듯\n",
       "                       ...                 \n",
       "9319       교원능력개발평가에서 교원이 보호받을 수 있는 마련해야합니다\n",
       "9320                            여성가족부의 원합니드\n",
       "9321                              국회의원들 월급좀\n",
       "9322             오늘 점심은 다음에 다시 츄라이 하기로 해요!!\n",
       "9323                             법정공휴일 휴무관련\n",
       "Name: sentence_1, Length: 9324, dtype: object"
      ]
     },
     "execution_count": 10,
     "metadata": {},
     "output_type": "execute_result"
    }
   ],
   "source": [
    "import random\n",
    "\n",
    "def delete(x):\n",
    "    x = x.split()\n",
    "    random_item = random.choice(x)\n",
    "    try:\n",
    "        x.remove(random_item)\n",
    "    except:\n",
    "        print(x)\n",
    "\n",
    "    return ' '.join(x)\n",
    "\n",
    "train_df['sentence_1'].apply(lambda x: delete(x))"
   ]
  },
  {
   "cell_type": "code",
   "execution_count": 11,
   "id": "a05c27fc",
   "metadata": {},
   "outputs": [
    {
     "data": {
      "text/plain": [
       "0       스릴도있고 반전도 있고 여느 한국영화 쓰레기들하고는 차원이 다르네요~\n",
       "1                         앗 제가 접근권한이 없다고 뜹니다;;\n",
       "2                               주택청약조건 변경해주세요.\n",
       "3                       입사후 처음 대면으로 만나 반가웠습니다.\n",
       "4                                   뿌듯뿌듯 하네요!!\n",
       "                         ...                  \n",
       "9319      교원능력개발평가에서 교원이 보호받을 수 있는 장치를 마련해야합니다\n",
       "9320                           여성가족부의 폐지를 원합니드\n",
       "9321                           국회의원들 월급좀 줄여주세요\n",
       "9322             오늘 못한 점심은 다음에 다시 츄라이 하기로 해요!!\n",
       "9323                          법정공휴일 휴무관련 (근로자)\n",
       "Name: sentence_1, Length: 9324, dtype: object"
      ]
     },
     "execution_count": 11,
     "metadata": {},
     "output_type": "execute_result"
    }
   ],
   "source": [
    "train_df['sentence_1']"
   ]
  },
  {
   "cell_type": "code",
   "execution_count": null,
   "id": "a677f064",
   "metadata": {},
   "outputs": [],
   "source": []
  }
 ],
 "metadata": {
  "kernelspec": {
   "display_name": "Python 3 (ipykernel)",
   "language": "python",
   "name": "python3"
  },
  "language_info": {
   "codemirror_mode": {
    "name": "ipython",
    "version": 3
   },
   "file_extension": ".py",
   "mimetype": "text/x-python",
   "name": "python",
   "nbconvert_exporter": "python",
   "pygments_lexer": "ipython3",
   "version": "3.8.5"
  }
 },
 "nbformat": 4,
 "nbformat_minor": 5
}
