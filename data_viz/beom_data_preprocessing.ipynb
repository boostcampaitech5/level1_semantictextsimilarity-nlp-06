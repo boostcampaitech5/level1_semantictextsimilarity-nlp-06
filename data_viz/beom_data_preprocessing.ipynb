{
 "cells": [
  {
   "cell_type": "markdown",
   "id": "61931494-acbf-4a68-a5f2-2c7819d5dac5",
   "metadata": {},
   "source": [
    "# 데이터 전처리 코드\n",
    "\n",
    "- creator: 김기범"
   ]
  },
  {
   "cell_type": "code",
   "execution_count": 28,
   "id": "10e641cf-01f9-4f66-9f61-4b26ef0ea5cd",
   "metadata": {
    "tags": []
   },
   "outputs": [],
   "source": [
    "import pandas as pd\n",
    "import numpy as np"
   ]
  },
  {
   "cell_type": "code",
   "execution_count": 29,
   "id": "e1068ba5-b89b-4678-b6e7-d3fba5e2b48c",
   "metadata": {
    "tags": []
   },
   "outputs": [
    {
     "data": {
      "text/plain": [
       "(9324, 6)"
      ]
     },
     "execution_count": 29,
     "metadata": {},
     "output_type": "execute_result"
    }
   ],
   "source": [
    "train_df = pd.read_csv('../data/train.csv')\n",
    "\n",
    "train_df.shape"
   ]
  },
  {
   "cell_type": "markdown",
   "id": "ad2fd608-331e-4549-81f3-d67a1b581159",
   "metadata": {},
   "source": [
    "## 특수 문자 제거"
   ]
  },
  {
   "cell_type": "code",
   "execution_count": 30,
   "id": "f9e2c3b1-9d21-471b-9c7b-cf3938bb6823",
   "metadata": {
    "tags": []
   },
   "outputs": [
    {
     "data": {
      "text/plain": [
       "0       스릴도있고 반전도 있고 여느 한국영화 쓰레기들하고는 차원이 다르네요~\n",
       "1                         앗 제가 접근권한이 없다고 뜹니다;;\n",
       "2                               주택청약조건 변경해주세요.\n",
       "3                       입사후 처음 대면으로 만나 반가웠습니다.\n",
       "4                                   뿌듯뿌듯 하네요!!\n",
       "                         ...                  \n",
       "9319      교원능력개발평가에서 교원이 보호받을 수 있는 장치를 마련해야합니다\n",
       "9320                           여성가족부의 폐지를 원합니드\n",
       "9321                           국회의원들 월급좀 줄여주세요\n",
       "9322             오늘 못한 점심은 다음에 다시 츄라이 하기로 해요!!\n",
       "9323                          법정공휴일 휴무관련 (근로자)\n",
       "Name: sentence_1, Length: 9324, dtype: object"
      ]
     },
     "execution_count": 30,
     "metadata": {},
     "output_type": "execute_result"
    }
   ],
   "source": [
    "train_df['sentence_1']"
   ]
  },
  {
   "cell_type": "code",
   "execution_count": 31,
   "id": "a61c0469-8baf-4d30-bb5e-c6f6166ffd71",
   "metadata": {
    "tags": []
   },
   "outputs": [
    {
     "data": {
      "text/plain": [
       "0       스릴도있고 반전도 있고 여느 한국영화 쓰레기들하고는 차원이 다르네요 \n",
       "1                         앗 제가 접근권한이 없다고 뜹니다  \n",
       "2                               주택청약조건 변경해주세요 \n",
       "3                       입사후 처음 대면으로 만나 반가웠습니다 \n",
       "4                                   뿌듯뿌듯 하네요  \n",
       "                         ...                  \n",
       "9319      교원능력개발평가에서 교원이 보호받을 수 있는 장치를 마련해야합니다\n",
       "9320                           여성가족부의 폐지를 원합니드\n",
       "9321                           국회의원들 월급좀 줄여주세요\n",
       "9322             오늘 못한 점심은 다음에 다시 츄라이 하기로 해요  \n",
       "9323                          법정공휴일 휴무관련  근로자 \n",
       "Name: sentence_1, Length: 9324, dtype: object"
      ]
     },
     "execution_count": 31,
     "metadata": {},
     "output_type": "execute_result"
    }
   ],
   "source": [
    "train_df['sentence_1'].str.replace(pat=r'[^\\w]', repl=r' ', regex=True)"
   ]
  },
  {
   "cell_type": "code",
   "execution_count": 32,
   "id": "4bef1221-8c4a-44a3-931a-6c7eeb8eb32c",
   "metadata": {
    "tags": []
   },
   "outputs": [
    {
     "data": {
      "text/plain": [
       "0                                반전도 있고,사랑도 있고재미도있네요.\n",
       "1                                 오, 액세스 권한이 없다고 합니다.\n",
       "2                                  주택청약 무주택기준 변경해주세요.\n",
       "3                        화상으로만 보다가 리얼로 만나니 정말 반가웠습니다.\n",
       "4                               꼬옥 실제로 한번 뵈어요 뿌뿌뿌~!~!\n",
       "                            ...                      \n",
       "9319    본인이 납부한 국민연금 금액을 기준으로 대출을 받을 수 있는 제도를 마련해 주세요\n",
       "9320                                여성가족부 폐지를 청원 합니다.\n",
       "9321                                 공무원 봉급좀 줄이지좀 마세요\n",
       "9322                         오늘 못먹은 밥은 꼭 담에 먹기로 하고요!!\n",
       "9323                           법정공휴일의 유급휴무화를 막아야 합니다.\n",
       "Name: sentence_2, Length: 9324, dtype: object"
      ]
     },
     "execution_count": 32,
     "metadata": {},
     "output_type": "execute_result"
    }
   ],
   "source": [
    "train_df['sentence_2']"
   ]
  },
  {
   "cell_type": "code",
   "execution_count": 33,
   "id": "f4405800-ad06-4537-bccf-82c961fdebc1",
   "metadata": {
    "tags": []
   },
   "outputs": [
    {
     "data": {
      "text/plain": [
       "0                                반전도 있고 사랑도 있고재미도있네요 \n",
       "1                                 오  액세스 권한이 없다고 합니다 \n",
       "2                                  주택청약 무주택기준 변경해주세요 \n",
       "3                        화상으로만 보다가 리얼로 만나니 정말 반가웠습니다 \n",
       "4                               꼬옥 실제로 한번 뵈어요 뿌뿌뿌    \n",
       "                            ...                      \n",
       "9319    본인이 납부한 국민연금 금액을 기준으로 대출을 받을 수 있는 제도를 마련해 주세요\n",
       "9320                                여성가족부 폐지를 청원 합니다 \n",
       "9321                                 공무원 봉급좀 줄이지좀 마세요\n",
       "9322                         오늘 못먹은 밥은 꼭 담에 먹기로 하고요  \n",
       "9323                           법정공휴일의 유급휴무화를 막아야 합니다 \n",
       "Name: sentence_2, Length: 9324, dtype: object"
      ]
     },
     "execution_count": 33,
     "metadata": {},
     "output_type": "execute_result"
    }
   ],
   "source": [
    "train_df['sentence_2'].str.replace(pat='[^\\w]', repl=r' ', regex=True)"
   ]
  },
  {
   "cell_type": "code",
   "execution_count": 34,
   "id": "09116eb2-e8d2-4d48-8f9c-8e2fd84168aa",
   "metadata": {},
   "outputs": [
    {
     "data": {
      "text/plain": [
       "0        스릴도있고 반전도 있고 여느 한국영화 차원이 다르네요~\n",
       "1                        앗 제가 접근권한이 없다고\n",
       "2                                주택청약조건\n",
       "3                     입사후 처음 만나 반가웠습니다.\n",
       "4                                  뿌듯뿌듯\n",
       "                     ...               \n",
       "9319    교원능력개발평가에서 교원이 수 있는 장치를 마련해야합니다\n",
       "9320                         여성가족부의 폐지를\n",
       "9321                          국회의원들 월급좀\n",
       "9322         못한 점심은 다음에 다시 츄라이 하기로 해요!!\n",
       "9323                         법정공휴일 휴무관련\n",
       "Name: sentence_1, Length: 9324, dtype: object"
      ]
     },
     "execution_count": 34,
     "metadata": {},
     "output_type": "execute_result"
    }
   ],
   "source": [
    "import random\n",
    "\n",
    "def delete(x):\n",
    "    x = x.split()\n",
    "    random_item = random.choice(x)\n",
    "    try:\n",
    "        x.remove(random_item)\n",
    "    except:\n",
    "        print(x)\n",
    "\n",
    "    return ' '.join(x)\n",
    "\n",
    "train_df['sentence_1'].apply(lambda x: delete(x))"
   ]
  },
  {
   "cell_type": "code",
   "execution_count": 35,
   "id": "a05c27fc",
   "metadata": {},
   "outputs": [
    {
     "data": {
      "text/plain": [
       "0       스릴도있고 반전도 있고 여느 한국영화 쓰레기들하고는 차원이 다르네요~\n",
       "1                         앗 제가 접근권한이 없다고 뜹니다;;\n",
       "2                               주택청약조건 변경해주세요.\n",
       "3                       입사후 처음 대면으로 만나 반가웠습니다.\n",
       "4                                   뿌듯뿌듯 하네요!!\n",
       "                         ...                  \n",
       "9319      교원능력개발평가에서 교원이 보호받을 수 있는 장치를 마련해야합니다\n",
       "9320                           여성가족부의 폐지를 원합니드\n",
       "9321                           국회의원들 월급좀 줄여주세요\n",
       "9322             오늘 못한 점심은 다음에 다시 츄라이 하기로 해요!!\n",
       "9323                          법정공휴일 휴무관련 (근로자)\n",
       "Name: sentence_1, Length: 9324, dtype: object"
      ]
     },
     "execution_count": 35,
     "metadata": {},
     "output_type": "execute_result"
    }
   ],
   "source": [
    "train_df['sentence_1']"
   ]
  },
  {
   "attachments": {},
   "cell_type": "markdown",
   "id": "a677f064",
   "metadata": {},
   "source": [
    "# SMOTE 적용\n",
    "- imbalanced 하기 때문에 이를 방지하고자 SMOTE 적용"
   ]
  },
  {
   "cell_type": "code",
   "execution_count": 36,
   "id": "6be11a76",
   "metadata": {},
   "outputs": [
    {
     "name": "stderr",
     "output_type": "stream",
     "text": [
      "/opt/conda/lib/python3.8/site-packages/tqdm/auto.py:21: TqdmWarning: IProgress not found. Please update jupyter and ipywidgets. See https://ipywidgets.readthedocs.io/en/stable/user_install.html\n",
      "  from .autonotebook import tqdm as notebook_tqdm\n"
     ]
    }
   ],
   "source": [
    "from imblearn.over_sampling import SMOTE\n",
    "import transformers"
   ]
  },
  {
   "cell_type": "code",
   "execution_count": 37,
   "id": "1c51587e",
   "metadata": {},
   "outputs": [],
   "source": [
    "model_name = 'snunlp/KR-ELECTRA-discriminator'\n",
    "tokenizer = transformers.AutoTokenizer.from_pretrained(model_name, max_length=200)"
   ]
  },
  {
   "cell_type": "code",
   "execution_count": 38,
   "id": "984df79d",
   "metadata": {},
   "outputs": [
    {
     "name": "stdout",
     "output_type": "stream",
     "text": [
      "[2, 21660, 5168, 5727, 5036, 14862, 5168, 3790, 5036, 19557, 8357, 15391, 8720, 5047, 17053, 5156, 9598, 5033, 9010, 11753, 98, 3, 14862, 5168, 3790, 5036, 16, 8648, 5168, 3790, 5036, 5270, 5096, 5168, 5727, 11753, 18, 3, 0, 0, 0, 0, 0, 0, 0, 0, 0, 0, 0, 0, 0, 0, 0, 0, 0, 0, 0, 0, 0, 0, 0, 0, 0, 0, 0, 0, 0, 0, 0, 0, 0, 0, 0, 0, 0, 0, 0, 0, 0, 0, 0, 0, 0, 0, 0, 0, 0, 0, 0, 0, 0, 0, 0, 0, 0, 0, 0, 0, 0, 0, 0, 0, 0, 0, 0, 0, 0, 0, 0, 0, 0, 0, 0, 0, 0, 0, 0, 0, 0, 0, 0, 0, 0, 0, 0, 0, 0, 0, 0, 0, 0, 0, 0, 0, 0, 0, 0, 0, 0, 0, 0, 0, 0, 0, 0, 0, 0, 0, 0, 0, 0, 0, 0, 0, 0, 0, 0, 0, 0, 0, 0, 0, 0, 0, 0, 0, 0, 0, 0, 0, 0, 0, 0, 0, 0, 0, 0, 0, 0, 0, 0, 0, 0, 0, 0, 0, 0, 0, 0, 0, 0, 0, 0, 0, 0, 0, 0, 0, 0, 0, 0, 0, 0, 0, 0, 0, 0, 0, 0, 0, 0, 0, 0, 0, 0, 0, 0, 0, 0, 0, 0, 0, 0, 0, 0, 0, 0, 0, 0, 0, 0, 0, 0, 0, 0, 0, 0, 0, 0, 0, 0, 0, 0, 0, 0, 0, 0, 0, 0, 0, 0, 0, 0, 0, 0, 0, 0, 0, 0, 0, 0, 0, 0, 0, 0, 0, 0, 0, 0, 0, 0, 0, 0, 0, 0, 0, 0, 0, 0, 0, 0, 0, 0, 0, 0, 0, 0, 0, 0, 0, 0, 0, 0, 0, 0, 0, 0, 0, 0, 0, 0, 0, 0, 0, 0, 0, 0, 0, 0, 0, 0, 0, 0, 0, 0, 0, 0, 0, 0, 0, 0, 0, 0, 0, 0, 0, 0, 0, 0, 0, 0, 0, 0, 0, 0, 0, 0, 0, 0, 0, 0, 0, 0, 0, 0, 0, 0, 0, 0, 0, 0, 0, 0, 0, 0, 0, 0, 0, 0, 0, 0, 0, 0, 0, 0, 0, 0, 0, 0, 0, 0, 0, 0, 0, 0, 0, 0, 0, 0, 0, 0, 0, 0, 0, 0, 0, 0, 0, 0, 0, 0, 0, 0, 0, 0, 0, 0, 0, 0, 0, 0, 0, 0, 0, 0, 0, 0, 0, 0, 0, 0, 0, 0, 0, 0, 0, 0, 0, 0, 0, 0, 0, 0, 0, 0, 0, 0, 0, 0, 0, 0, 0, 0, 0, 0, 0, 0, 0, 0, 0, 0, 0, 0, 0, 0, 0, 0, 0, 0, 0, 0, 0, 0, 0, 0, 0, 0, 0, 0, 0, 0, 0, 0, 0, 0, 0, 0, 0, 0, 0, 0, 0, 0, 0, 0, 0, 0, 0, 0, 0, 0, 0, 0, 0, 0, 0, 0, 0, 0, 0, 0, 0, 0, 0, 0, 0, 0, 0, 0, 0, 0, 0, 0, 0, 0, 0, 0, 0, 0, 0, 0, 0]\n",
      "[2, 3570, 3847, 5185, 10192, 5976, 5027, 5033, 3615, 8656, 2769, 8328, 31, 31, 3, 3657, 16, 3579, 29645, 10876, 5033, 3615, 8656, 8343, 18, 3, 0, 0, 0, 0, 0, 0, 0, 0, 0, 0, 0, 0, 0, 0, 0, 0, 0, 0, 0, 0, 0, 0, 0, 0, 0, 0, 0, 0, 0, 0, 0, 0, 0, 0, 0, 0, 0, 0, 0, 0, 0, 0, 0, 0, 0, 0, 0, 0, 0, 0, 0, 0, 0, 0, 0, 0, 0, 0, 0, 0, 0, 0, 0, 0, 0, 0, 0, 0, 0, 0, 0, 0, 0, 0, 0, 0, 0, 0, 0, 0, 0, 0, 0, 0, 0, 0, 0, 0, 0, 0, 0, 0, 0, 0, 0, 0, 0, 0, 0, 0, 0, 0, 0, 0, 0, 0, 0, 0, 0, 0, 0, 0, 0, 0, 0, 0, 0, 0, 0, 0, 0, 0, 0, 0, 0, 0, 0, 0, 0, 0, 0, 0, 0, 0, 0, 0, 0, 0, 0, 0, 0, 0, 0, 0, 0, 0, 0, 0, 0, 0, 0, 0, 0, 0, 0, 0, 0, 0, 0, 0, 0, 0, 0, 0, 0, 0, 0, 0, 0, 0, 0, 0, 0, 0, 0, 0, 0, 0, 0, 0, 0, 0, 0, 0, 0, 0, 0, 0, 0, 0, 0, 0, 0, 0, 0, 0, 0, 0, 0, 0, 0, 0, 0, 0, 0, 0, 0, 0, 0, 0, 0, 0, 0, 0, 0, 0, 0, 0, 0, 0, 0, 0, 0, 0, 0, 0, 0, 0, 0, 0, 0, 0, 0, 0, 0, 0, 0, 0, 0, 0, 0, 0, 0, 0, 0, 0, 0, 0, 0, 0, 0, 0, 0, 0, 0, 0, 0, 0, 0, 0, 0, 0, 0, 0, 0, 0, 0, 0, 0, 0, 0, 0, 0, 0, 0, 0, 0, 0, 0, 0, 0, 0, 0, 0, 0, 0, 0, 0, 0, 0, 0, 0, 0, 0, 0, 0, 0, 0, 0, 0, 0, 0, 0, 0, 0, 0, 0, 0, 0, 0, 0, 0, 0, 0, 0, 0, 0, 0, 0, 0, 0, 0, 0, 0, 0, 0, 0, 0, 0, 0, 0, 0, 0, 0, 0, 0, 0, 0, 0, 0, 0, 0, 0, 0, 0, 0, 0, 0, 0, 0, 0, 0, 0, 0, 0, 0, 0, 0, 0, 0, 0, 0, 0, 0, 0, 0, 0, 0, 0, 0, 0, 0, 0, 0, 0, 0, 0, 0, 0, 0, 0, 0, 0, 0, 0, 0, 0, 0, 0, 0, 0, 0, 0, 0, 0, 0, 0, 0, 0, 0, 0, 0, 0, 0, 0, 0, 0, 0, 0, 0, 0, 0, 0, 0, 0, 0, 0, 0, 0, 0, 0, 0, 0, 0, 0, 0, 0, 0, 0, 0, 0, 0, 0, 0, 0, 0, 0, 0, 0, 0, 0, 0, 0, 0, 0, 0, 0, 0, 0, 0, 0, 0, 0, 0, 0, 0, 0, 0, 0, 0, 0, 0, 0, 0, 0, 0, 0, 0, 0, 0, 0, 0, 0, 0, 0, 0, 0, 0, 0, 0, 0, 0, 0, 0, 0, 0]\n"
     ]
    }
   ],
   "source": [
    "data = []\n",
    "\n",
    "for idx, item in train_df.iterrows():\n",
    "    text = '[SEP]'.join([item[column] for column in ['sentence_1', 'sentence_2']])\n",
    "    outputs = tokenizer(text, add_special_tokens=True, padding='max_length', truncation=True)\n",
    "    data.append(outputs['input_ids'])\n",
    "\n",
    "print(data[0])\n",
    "print(data[1])\n"
   ]
  },
  {
   "cell_type": "code",
   "execution_count": 39,
   "id": "b0d4a87c",
   "metadata": {},
   "outputs": [
    {
     "name": "stdout",
     "output_type": "stream",
     "text": [
      "스릴도있고 반전도 있고 여느 한국영화 쓰레기들하고는 차원이 다르네요~ 반전도 있고,사랑도 있고재미도있네요.\n"
     ]
    },
    {
     "name": "stderr",
     "output_type": "stream",
     "text": [
      "2023-04-18 08:30:15.647249: W tensorflow/stream_executor/platform/default/dso_loader.cc:64] Could not load dynamic library 'libcudart.so.11.0'; dlerror: libcudart.so.11.0: cannot open shared object file: No such file or directory\n",
      "2023-04-18 08:30:15.647286: I tensorflow/stream_executor/cuda/cudart_stub.cc:29] Ignore above cudart dlerror if you do not have a GPU set up on your machine.\n"
     ]
    },
    {
     "name": "stdout",
     "output_type": "stream",
     "text": [
      "[CLS] 스릴도있고 반전도 있고 여느 한국영화 쓰레기들하고는 차원이 다르네요 ~ [SEP] 반전도 있고, 사랑도 있고재미도있네요. [SEP] [PAD] [PAD] [PAD] [PAD] [PAD] [PAD] [PAD] [PAD] [PAD] [PAD] [PAD] [PAD] [PAD] [PAD] [PAD] [PAD] [PAD] [PAD] [PAD] [PAD] [PAD] [PAD] [PAD] [PAD] [PAD] [PAD] [PAD] [PAD] [PAD] [PAD] [PAD] [PAD] [PAD] [PAD] [PAD] [PAD] [PAD] [PAD] [PAD] [PAD] [PAD] [PAD] [PAD] [PAD] [PAD] [PAD] [PAD] [PAD] [PAD] [PAD] [PAD] [PAD] [PAD] [PAD] [PAD] [PAD] [PAD] [PAD] [PAD] [PAD] [PAD] [PAD] [PAD] [PAD] [PAD] [PAD] [PAD] [PAD] [PAD] [PAD] [PAD] [PAD] [PAD] [PAD] [PAD] [PAD] [PAD] [PAD] [PAD] [PAD] [PAD] [PAD] [PAD] [PAD] [PAD] [PAD] [PAD] [PAD] [PAD] [PAD] [PAD] [PAD] [PAD] [PAD] [PAD] [PAD] [PAD] [PAD] [PAD] [PAD] [PAD] [PAD] [PAD] [PAD] [PAD] [PAD] [PAD] [PAD] [PAD] [PAD] [PAD] [PAD] [PAD] [PAD] [PAD] [PAD] [PAD] [PAD] [PAD] [PAD] [PAD] [PAD] [PAD] [PAD] [PAD] [PAD] [PAD] [PAD] [PAD] [PAD] [PAD] [PAD] [PAD] [PAD] [PAD] [PAD] [PAD] [PAD] [PAD] [PAD] [PAD] [PAD] [PAD] [PAD] [PAD] [PAD] [PAD] [PAD] [PAD] [PAD] [PAD] [PAD] [PAD] [PAD] [PAD] [PAD] [PAD] [PAD] [PAD] [PAD] [PAD] [PAD] [PAD] [PAD] [PAD] [PAD] [PAD] [PAD] [PAD] [PAD] [PAD] [PAD] [PAD] [PAD] [PAD] [PAD] [PAD] [PAD] [PAD] [PAD] [PAD] [PAD] [PAD] [PAD] [PAD] [PAD] [PAD] [PAD] [PAD] [PAD] [PAD] [PAD] [PAD] [PAD] [PAD] [PAD] [PAD] [PAD] [PAD] [PAD] [PAD] [PAD] [PAD] [PAD] [PAD] [PAD] [PAD] [PAD] [PAD] [PAD] [PAD] [PAD] [PAD] [PAD] [PAD] [PAD] [PAD] [PAD] [PAD] [PAD] [PAD] [PAD] [PAD] [PAD] [PAD] [PAD] [PAD] [PAD] [PAD] [PAD] [PAD] [PAD] [PAD] [PAD] [PAD] [PAD] [PAD] [PAD] [PAD] [PAD] [PAD] [PAD] [PAD] [PAD] [PAD] [PAD] [PAD] [PAD] [PAD] [PAD] [PAD] [PAD] [PAD] [PAD] [PAD] [PAD] [PAD] [PAD] [PAD] [PAD] [PAD] [PAD] [PAD] [PAD] [PAD] [PAD] [PAD] [PAD] [PAD] [PAD] [PAD] [PAD] [PAD] [PAD] [PAD] [PAD] [PAD] [PAD] [PAD] [PAD] [PAD] [PAD] [PAD] [PAD] [PAD] [PAD] [PAD] [PAD] [PAD] [PAD] [PAD] [PAD] [PAD] [PAD] [PAD] [PAD] [PAD] [PAD] [PAD] [PAD] [PAD] [PAD] [PAD] [PAD] [PAD] [PAD] [PAD] [PAD] [PAD] [PAD] [PAD] [PAD] [PAD] [PAD] [PAD] [PAD] [PAD] [PAD] [PAD] [PAD] [PAD] [PAD] [PAD] [PAD] [PAD] [PAD] [PAD] [PAD] [PAD] [PAD] [PAD] [PAD] [PAD] [PAD] [PAD] [PAD] [PAD] [PAD] [PAD] [PAD] [PAD] [PAD] [PAD] [PAD] [PAD] [PAD] [PAD] [PAD] [PAD] [PAD] [PAD] [PAD] [PAD] [PAD] [PAD] [PAD] [PAD] [PAD] [PAD] [PAD] [PAD] [PAD] [PAD] [PAD] [PAD] [PAD] [PAD] [PAD] [PAD] [PAD] [PAD] [PAD] [PAD] [PAD] [PAD] [PAD] [PAD] [PAD] [PAD] [PAD] [PAD] [PAD] [PAD] [PAD] [PAD] [PAD] [PAD] [PAD] [PAD] [PAD] [PAD] [PAD] [PAD] [PAD] [PAD] [PAD] [PAD] [PAD] [PAD] [PAD] [PAD] [PAD] [PAD] [PAD] [PAD] [PAD] [PAD] [PAD] [PAD] [PAD] [PAD] [PAD] [PAD] [PAD] [PAD] [PAD] [PAD] [PAD] [PAD] [PAD] [PAD] [PAD] [PAD] [PAD] [PAD] [PAD] [PAD] [PAD] [PAD] [PAD] [PAD] [PAD] [PAD] [PAD] [PAD] [PAD] [PAD] [PAD] [PAD] [PAD] [PAD] [PAD] [PAD] [PAD] [PAD] [PAD] [PAD] [PAD] [PAD] [PAD] [PAD] [PAD] [PAD] [PAD] [PAD] [PAD] [PAD] [PAD] [PAD] [PAD] [PAD] [PAD] [PAD] [PAD] [PAD] [PAD] [PAD] [PAD] [PAD] [PAD] [PAD] [PAD] [PAD] [PAD]\n"
     ]
    }
   ],
   "source": [
    "print(train_df['sentence_1'][0], train_df['sentence_2'][0])\n",
    "print(tokenizer.decode(data[0]))"
   ]
  },
  {
   "cell_type": "code",
   "execution_count": 40,
   "id": "cc1113cb",
   "metadata": {},
   "outputs": [
    {
     "data": {
      "text/plain": [
       "[2, 3, 3]"
      ]
     },
     "execution_count": 40,
     "metadata": {},
     "output_type": "execute_result"
    }
   ],
   "source": [
    "tokenizer.encode('[SEP]')"
   ]
  },
  {
   "cell_type": "code",
   "execution_count": 41,
   "id": "e9382532",
   "metadata": {},
   "outputs": [
    {
     "data": {
      "text/plain": [
       "0    2\n",
       "1    4\n",
       "2    2\n",
       "3    3\n",
       "4    0\n",
       "Name: label, dtype: int64"
      ]
     },
     "execution_count": 41,
     "metadata": {},
     "output_type": "execute_result"
    }
   ],
   "source": [
    "labels = train_df['label'].astype(int)\n",
    "\n",
    "labels.head()"
   ]
  },
  {
   "cell_type": "code",
   "execution_count": 42,
   "id": "6a036343",
   "metadata": {},
   "outputs": [
    {
     "data": {
      "text/plain": [
       "(22266, (22266,))"
      ]
     },
     "execution_count": 42,
     "metadata": {},
     "output_type": "execute_result"
    }
   ],
   "source": [
    "smote = SMOTE(random_state=42)\n",
    "X_sm, y_sm = smote.fit_resample(data, labels)\n",
    "\n",
    "len(X_sm), y_sm.shape"
   ]
  },
  {
   "cell_type": "code",
   "execution_count": 43,
   "id": "a10a227e",
   "metadata": {},
   "outputs": [
    {
     "data": {
      "text/plain": [
       "2    3711\n",
       "4    3711\n",
       "3    3711\n",
       "0    3711\n",
       "1    3711\n",
       "5    3711\n",
       "Name: label, dtype: int64"
      ]
     },
     "execution_count": 43,
     "metadata": {},
     "output_type": "execute_result"
    }
   ],
   "source": [
    "y_sm.value_counts()"
   ]
  },
  {
   "cell_type": "code",
   "execution_count": 44,
   "id": "b33d7bf8",
   "metadata": {},
   "outputs": [
    {
     "data": {
      "text/plain": [
       "(22266, 2)"
      ]
     },
     "execution_count": 44,
     "metadata": {},
     "output_type": "execute_result"
    }
   ],
   "source": [
    "smote_data = pd.DataFrame()\n",
    "smote_data['sentence'] = X_sm\n",
    "smote_data['label'] = labels\n",
    "\n",
    "smote_data.shape"
   ]
  },
  {
   "attachments": {},
   "cell_type": "markdown",
   "id": "0b4f29a3",
   "metadata": {},
   "source": [
    "# Create 5"
   ]
  },
  {
   "cell_type": "code",
   "execution_count": 45,
   "id": "368c7b94",
   "metadata": {},
   "outputs": [],
   "source": [
    "import random"
   ]
  },
  {
   "cell_type": "code",
   "execution_count": 46,
   "id": "3acda1a6",
   "metadata": {},
   "outputs": [
    {
     "name": "stdout",
     "output_type": "stream",
     "text": [
      "<class 'list'>\n"
     ]
    }
   ],
   "source": [
    "label_0_index = train_df[train_df['label'] == 0].index.tolist()\n",
    "\n",
    "print(type(label_0_index))"
   ]
  },
  {
   "cell_type": "code",
   "execution_count": 47,
   "id": "5fd81160",
   "metadata": {},
   "outputs": [
    {
     "name": "stdout",
     "output_type": "stream",
     "text": [
      "1200 1200\n"
     ]
    }
   ],
   "source": [
    "a = random.sample(label_0_index, 1200)\n",
    "b = set(a)\n",
    "\n",
    "print(len(a), len(b))"
   ]
  },
  {
   "cell_type": "code",
   "execution_count": 48,
   "id": "46aa998b",
   "metadata": {},
   "outputs": [
    {
     "data": {
      "text/html": [
       "<div>\n",
       "<style scoped>\n",
       "    .dataframe tbody tr th:only-of-type {\n",
       "        vertical-align: middle;\n",
       "    }\n",
       "\n",
       "    .dataframe tbody tr th {\n",
       "        vertical-align: top;\n",
       "    }\n",
       "\n",
       "    .dataframe thead th {\n",
       "        text-align: right;\n",
       "    }\n",
       "</style>\n",
       "<table border=\"1\" class=\"dataframe\">\n",
       "  <thead>\n",
       "    <tr style=\"text-align: right;\">\n",
       "      <th></th>\n",
       "      <th>id</th>\n",
       "      <th>source</th>\n",
       "      <th>sentence_1</th>\n",
       "      <th>sentence_2</th>\n",
       "      <th>label</th>\n",
       "      <th>binary-label</th>\n",
       "    </tr>\n",
       "  </thead>\n",
       "  <tbody>\n",
       "    <tr>\n",
       "      <th>1</th>\n",
       "      <td>boostcamp-sts-v1-train-001</td>\n",
       "      <td>slack-rtt</td>\n",
       "      <td>앗 제가 접근권한이 없다고 뜹니다;;</td>\n",
       "      <td>오, 액세스 권한이 없다고 합니다.</td>\n",
       "      <td>4.2</td>\n",
       "      <td>1.0</td>\n",
       "    </tr>\n",
       "    <tr>\n",
       "      <th>2</th>\n",
       "      <td>boostcamp-sts-v1-train-002</td>\n",
       "      <td>petition-sampled</td>\n",
       "      <td>주택청약조건 변경해주세요.</td>\n",
       "      <td>주택청약 무주택기준 변경해주세요.</td>\n",
       "      <td>2.4</td>\n",
       "      <td>0.0</td>\n",
       "    </tr>\n",
       "  </tbody>\n",
       "</table>\n",
       "</div>"
      ],
      "text/plain": [
       "                           id            source            sentence_1  \\\n",
       "1  boostcamp-sts-v1-train-001         slack-rtt  앗 제가 접근권한이 없다고 뜹니다;;   \n",
       "2  boostcamp-sts-v1-train-002  petition-sampled        주택청약조건 변경해주세요.   \n",
       "\n",
       "            sentence_2  label  binary-label  \n",
       "1  오, 액세스 권한이 없다고 합니다.    4.2           1.0  \n",
       "2   주택청약 무주택기준 변경해주세요.    2.4           0.0  "
      ]
     },
     "execution_count": 48,
     "metadata": {},
     "output_type": "execute_result"
    }
   ],
   "source": [
    "train_df.iloc[[1, 2]]"
   ]
  },
  {
   "cell_type": "code",
   "execution_count": 49,
   "id": "36bda7c1",
   "metadata": {},
   "outputs": [
    {
     "data": {
      "text/plain": [
       "((1200, 6), (8124, 6))"
      ]
     },
     "execution_count": 49,
     "metadata": {},
     "output_type": "execute_result"
    }
   ],
   "source": [
    "new_df = train_df.loc[a, :]\n",
    "new_df['label'] = 5.0\n",
    "train_df.drop(a, axis=0, inplace=True)\n",
    "train_df.reset_index(drop=True, inplace=True)\n",
    "\n",
    "new_df.shape, train_df.shape"
   ]
  },
  {
   "cell_type": "code",
   "execution_count": null,
   "id": "43372170",
   "metadata": {},
   "outputs": [],
   "source": []
  }
 ],
 "metadata": {
  "kernelspec": {
   "display_name": "Python 3 (ipykernel)",
   "language": "python",
   "name": "python3"
  },
  "language_info": {
   "codemirror_mode": {
    "name": "ipython",
    "version": 3
   },
   "file_extension": ".py",
   "mimetype": "text/x-python",
   "name": "python",
   "nbconvert_exporter": "python",
   "pygments_lexer": "ipython3",
   "version": "3.8.5"
  }
 },
 "nbformat": 4,
 "nbformat_minor": 5
}
